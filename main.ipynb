{
 "cells": [
  {
   "cell_type": "code",
   "execution_count": null,
   "id": "e7560bc5-37ce-4eed-9626-265046ce2fc1",
   "metadata": {
    "tags": []
   },
   "outputs": [],
   "source": [
    "import sagemaker\n",
    "from sagemaker import get_execution_role\n",
    "\n",
    "sess = sagemaker.Session()\n",
    "role = get_execution_role()\n",
    "sagemaker_default_bucket = sess.default_bucket()\n",
    "\n",
    "account = sess.boto_session.client(\"sts\").get_caller_identity()[\"Account\"]\n",
    "region = sess.boto_session.region_name\n",
    "s3_bkt = sagemaker.Session().default_bucket()\n",
    "s3_bkt"
   ]
  },
  {
   "cell_type": "markdown",
   "id": "68335409-ee20-45eb-834d-7dfa6aec3d9b",
   "metadata": {},
   "source": [
    "## Data Processing - Bring your own container\n",
    "-----"
   ]
  },
  {
   "cell_type": "code",
   "execution_count": null,
   "id": "982a4c38-15ad-4fad-babd-7456fd50abd3",
   "metadata": {
    "tags": []
   },
   "outputs": [],
   "source": [
    "%%writefile docker/Dockerfile\n",
    "FROM ncbi/sra-tools\n",
    "\n",
    "# Install python/pip, sagemaker-training toolkit\n",
    "ENV PYTHONUNBUFFERED=1\n",
    "RUN apk add --update --no-cache python3 python3-dev gcc musl-dev linux-headers && ln -sf python3 /usr/bin/python\n",
    "RUN python3 -m ensurepip\n",
    "RUN pip3 install --no-cache --upgrade pip setuptools sagemaker-training"
   ]
  },
  {
   "cell_type": "code",
   "execution_count": null,
   "id": "068454e0-bc95-4a11-b59e-9d10f3f1af2a",
   "metadata": {
    "scrolled": true,
    "tags": []
   },
   "outputs": [],
   "source": [
    "tag='data-processing-v0'\n",
    "!docker build ./docker -t $tag"
   ]
  },
  {
   "cell_type": "code",
   "execution_count": null,
   "id": "18e82414-7789-449f-8a48-9180f1ce729c",
   "metadata": {
    "tags": []
   },
   "outputs": [],
   "source": [
    "## define repo name, should contain *sagemaker* in the name\n",
    "repo_name = \"sra-project\"\n",
    "tag = 'data-processing-v0'"
   ]
  },
  {
   "cell_type": "code",
   "execution_count": null,
   "id": "ed31422e-7d19-4eb8-9595-de77bfcbe510",
   "metadata": {
    "scrolled": true,
    "tags": []
   },
   "outputs": [],
   "source": [
    "%%script env repo_name=$repo_name tag=$tag bash\n",
    "\n",
    "#!/usr/bin/env bash\n",
    "\n",
    "# This script shows how to build the Docker image and push it to ECR to be ready for use\n",
    "# by SageMaker.\n",
    "\n",
    "# The argument to this script is the image name. This will be used as the image on the local\n",
    "# machine and combined with the account and region to form the repository name for ECR.\n",
    "# The name of our algorithm\n",
    "algorithm_name=${repo_name}\n",
    "\n",
    "account=$(aws sts get-caller-identity --query Account --output text)\n",
    "\n",
    "# Get the region defined in max_run=rrent configuration (default to us-west-2 if none defined)\n",
    "region=$(aws configure get region)\n",
    "region=${region:-us-west-2}\n",
    "\n",
    "fullname=\"${account}.dkr.ecr.${region}.amazonaws.com/${algorithm_name}:${tag}\"\n",
    "\n",
    "# If the repository doesn't exist in ECR, create it.\n",
    "aws ecr describe-repositories --repository-names \"${algorithm_name}\" > /dev/null 2>&1\n",
    "\n",
    "if [ $? -ne 0 ]\n",
    "then\n",
    "    aws ecr create-repository --repository-name \"${algorithm_name}\" > /dev/null\n",
    "fi\n",
    "\n",
    "# Get the login command from ECR and execute it directly\n",
    "aws ecr get-login-password --region ${region}|docker login --username AWS --password-stdin ${fullname}\n",
    "\n",
    "# Build the docker image locally with the image name and then push it to ECR\n",
    "# with the full name.\n",
    "\n",
    "docker build -t ${algorithm_name}:${tag} ./docker\n",
    "docker tag ${algorithm_name} ${fullname}\n",
    "\n",
    "docker push ${fullname}"
   ]
  },
  {
   "cell_type": "markdown",
   "id": "f8875164-4e39-468b-a0b7-6a819c00400a",
   "metadata": {},
   "source": [
    "### Process data from FSxL"
   ]
  },
  {
   "cell_type": "code",
   "execution_count": null,
   "id": "b307aa93-abee-477d-807a-013261079dbc",
   "metadata": {
    "tags": []
   },
   "outputs": [],
   "source": [
    "image_uri = \"{}.dkr.ecr.{}.amazonaws.com/{}:{}\".format(account, region, repo_name, tag)\n",
    "\n",
    "from sagemaker.estimator import Estimator\n",
    "from sagemaker.inputs import FileSystemInput\n",
    "\n",
    "train_fs = FileSystemInput(\n",
    "    file_system_id=\"fs-0f8a3b8eef47b6ff8\",  # put File system ID here, find from FSxL Console\n",
    "    file_system_type=\"FSxLustre\",\n",
    "    directory_path=\"/yobzhbmv\",  # put Mount name here, find from FSxL Console\n",
    "    file_system_access_mode=\"rw\",  # rw: read-write, ro: read-only\n",
    ")\n",
    "\n",
    "estimator = Estimator(\n",
    "    entry_point='1-process-data.sh',  # any kind of scripts\n",
    "    source_dir='./src',  # this folder will be packed and sent to S3, don't put large data under it.\n",
    "    role=role,\n",
    "    image_uri=image_uri,\n",
    "    instance_count=1,\n",
    "    instance_type='ml.m5.xlarge',\n",
    "    hyperparameters={  # pass into entry_point script, in format \"--key1 value1 --key2 value2\"\n",
    "        'data_id': 'ERR036591'\n",
    "    },\n",
    "    subnets=[  # subnet SageMaker use to put NIC(s), to access FSx Lustre storage inside VPC\n",
    "        'subnet-07ce0ab63b4cfeb25', # private subnet, so that instance can access Internet,\n",
    "                                    # otherwise, setup S3, CloudWatch private link\n",
    "    ],\n",
    "    security_group_ids=[  # security group to bind with this instance, in order to access fsx\n",
    "        'sg-04acfc98f6929ee4e'\n",
    "    ],\n",
    "    max_run=2 * 24 * 3600,  # in seconds, max run time allowed.\n",
    "    # keep_alive_period_in_seconds=60*10,  # in second, if you want to reuse these instances,\n",
    "    # enable_remote_debug=True,  # set to True for remote debugging, or enable later\n",
    ")\n",
    "\n",
    "wait = False  # wait for execution\n",
    "estimator.fit({\n",
    "    'training': train_fs,  # this will exposed as Env: SM_CHANNEL_TRAINING, with value /opt/ml/input/data/training\n",
    "    # 'whatever': train_fs,  # this will exposed as Env: SM_CHANNEL_WHATEVER, with value /opt/ml/input/data/whatever\n",
    "}, wait=wait)\n",
    "\n",
    "job_name = estimator._current_job_name"
   ]
  },
  {
   "cell_type": "code",
   "execution_count": null,
   "id": "78cde48a-d3c2-4856-b7aa-2216d072d248",
   "metadata": {
    "tags": []
   },
   "outputs": [],
   "source": [
    "# you can enable remote debugging while a training job is running when the \n",
    "# SecondaryStatus of the job is Downloading or Training.\n",
    "\n",
    "estimator.enable_remote_debug()"
   ]
  },
  {
   "cell_type": "code",
   "execution_count": null,
   "id": "cd9a25ef-95c0-40b0-a5b0-52e628ad0213",
   "metadata": {
    "tags": []
   },
   "outputs": [],
   "source": [
    "print(f\"Access first training instance:\\naws ssm start-session --target sagemaker-training-job:{job_name}_algo-1\")"
   ]
  },
  {
   "cell_type": "markdown",
   "id": "4621c446-1c07-4773-a02b-ba27e4cdb672",
   "metadata": {},
   "source": [
    "### SageMaker Remote Debugging\n",
    "-------------\n",
    "\n",
    "Find more info from https://docs.aws.amazon.com/sagemaker/latest/dg/train-remote-debugging.html"
   ]
  },
  {
   "cell_type": "code",
   "execution_count": null,
   "id": "627974f2-ff60-4d01-a0cc-2ad801c146f4",
   "metadata": {
    "tags": []
   },
   "outputs": [],
   "source": [
    "import sagemaker\n",
    "import time\n",
    "\n",
    "session = sagemaker.Session()\n",
    "\n",
    "while True:\n",
    "    # Describe the job status\n",
    "    training_job_info = session.describe_training_job(job_name)\n",
    "    secondary_status = training_job_info['SecondaryStatus']\n",
    "    print(secondary_status)\n",
    "\n",
    "    if secondary_status in ['Downloading', 'Training']:\n",
    "        break\n",
    "    else:\n",
    "        time.sleep(5)"
   ]
  },
  {
   "cell_type": "markdown",
   "id": "f59fb958-0cc3-47e9-8857-c13b31297e47",
   "metadata": {},
   "source": [
    "## Process data from S3\n",
    "\n",
    "You can also access public s3 data by passing in s3 uri into .fit(), make sure you're using the same region as S3."
   ]
  },
  {
   "cell_type": "code",
   "execution_count": null,
   "id": "4e9ebab0-111f-4b88-ba34-12391ad230ca",
   "metadata": {
    "tags": []
   },
   "outputs": [],
   "source": [
    "image_uri = \"{}.dkr.ecr.{}.amazonaws.com/{}:{}\".format(account, region, repo_name, tag)\n",
    "\n",
    "from sagemaker.estimator import Estimator\n",
    "\n",
    "estimator = Estimator(\n",
    "    entry_point='1-process-data.sh',  # any kind of scripts\n",
    "    source_dir='./src',  # this folder will be packed and sent to S3, don't put large data under it.\n",
    "    role=role,\n",
    "    image_uri=image_uri,\n",
    "    instance_count=1,\n",
    "    instance_type='ml.m5.xlarge',\n",
    "    max_run=2 * 24 * 3600,  # in seconds, max run time allowed.\n",
    "    # keep_alive_period_in_seconds=60*10,  # in second, if you want to reuse these instances,\n",
    "    # enable_remote_debug=True,  # set to True for remote debugging, or enable later\n",
    ")\n",
    "\n",
    "wait = False  # wait for execution\n",
    "estimator.fit({\n",
    "    'training': 's3://sra-pub-src-1/ERR11491426/',\n",
    "}, wait=wait)\n",
    "\n",
    "job_name = estimator._current_job_name"
   ]
  },
  {
   "cell_type": "markdown",
   "id": "dc020e9b-ec44-42ae-95f1-13f59d521b5d",
   "metadata": {},
   "source": [
    "### SageMaker Remote Debugging\n",
    "-------------\n",
    "\n",
    "Find more info from https://docs.aws.amazon.com/sagemaker/latest/dg/train-remote-debugging.html"
   ]
  },
  {
   "cell_type": "code",
   "execution_count": null,
   "id": "7d5f0801-0127-4162-827d-5ffcf80a5d1c",
   "metadata": {
    "tags": []
   },
   "outputs": [],
   "source": [
    "import sagemaker\n",
    "import time\n",
    "\n",
    "session = sagemaker.Session()\n",
    "\n",
    "while True:\n",
    "    # Describe the job status\n",
    "    training_job_info = session.describe_training_job(job_name)\n",
    "    secondary_status = training_job_info['SecondaryStatus']\n",
    "    print(secondary_status)\n",
    "\n",
    "    if secondary_status in ['Downloading', 'Training']:\n",
    "        break\n",
    "    else:\n",
    "        time.sleep(5)"
   ]
  },
  {
   "cell_type": "code",
   "execution_count": null,
   "id": "07ecc4a8-c7b0-4495-abee-d2031964c4ec",
   "metadata": {
    "tags": []
   },
   "outputs": [],
   "source": [
    "estimator.enable_remote_debug()"
   ]
  },
  {
   "cell_type": "code",
   "execution_count": null,
   "id": "d38dd7a7-dc11-4be6-a40c-79ebcc679b1a",
   "metadata": {
    "tags": []
   },
   "outputs": [],
   "source": [
    "print(f\"Access first training instance:\\naws ssm start-session --target sagemaker-training-job:{job_name}_algo-1\")"
   ]
  }
 ],
 "metadata": {
  "kernelspec": {
   "display_name": "conda_python3",
   "language": "python",
   "name": "conda_python3"
  },
  "language_info": {
   "codemirror_mode": {
    "name": "ipython",
    "version": 3
   },
   "file_extension": ".py",
   "mimetype": "text/x-python",
   "name": "python",
   "nbconvert_exporter": "python",
   "pygments_lexer": "ipython3",
   "version": "3.10.13"
  }
 },
 "nbformat": 4,
 "nbformat_minor": 5
}
